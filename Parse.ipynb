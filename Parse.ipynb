{
 "cells": [
  {
   "cell_type": "code",
   "execution_count": 94,
   "metadata": {},
   "outputs": [],
   "source": [
    "import numpy as np\n",
    "import pandas as pd\n",
    "import math"
   ]
  },
  {
   "cell_type": "markdown",
   "metadata": {},
   "source": [
    "# Data Parsing: Run this to generate CSV"
   ]
  },
  {
   "cell_type": "code",
   "execution_count": 95,
   "metadata": {},
   "outputs": [],
   "source": [
    "df = pd.read_csv('warfarin.csv')"
   ]
  },
  {
   "cell_type": "code",
   "execution_count": 96,
   "metadata": {},
   "outputs": [],
   "source": [
    "df = df.dropna(subset=['Therapeutic Dose of Warfarin'])"
   ]
  },
  {
   "cell_type": "code",
   "execution_count": 97,
   "metadata": {},
   "outputs": [
    {
     "name": "stdout",
     "output_type": "stream",
     "text": [
      "5528\n"
     ]
    }
   ],
   "source": [
    "print(len(df))"
   ]
  },
  {
   "cell_type": "code",
   "execution_count": 98,
   "metadata": {},
   "outputs": [],
   "source": [
    "def bucketize(row):\n",
    "    if row['Therapeutic Dose of Warfarin'] < 21:\n",
    "        return 0\n",
    "    elif row['Therapeutic Dose of Warfarin'] <= 49:\n",
    "        return 1\n",
    "    else:\n",
    "        return 2\n",
    "df['Label'] = df.apply(bucketize, axis=1)"
   ]
  },
  {
   "cell_type": "code",
   "execution_count": 119,
   "metadata": {},
   "outputs": [],
   "source": [
    "df['Asian'] = df.apply(lambda row: int(row['Race'] == 'Asian'), axis=1)\n",
    "df['Black'] = df.apply(lambda row: int(row['Race'] == 'Black or African American'), axis=1)\n",
    "df['Mixed'] = df.apply(lambda row: int(row['Race'] == 'Unknown'), axis=1)\n",
    "\n",
    "def taking_drug(row):\n",
    "    return 1 if row['Carbamazepine (Tegretol)'] == 1 or row['Phenytoin (Dilantin)'] == 1 or row['Rifampin or Rifampicin'] == 1 else 0\n",
    "df['Enzyme'] = df.apply(taking_drug, axis=1)\n",
    "\n",
    "df['Ami'] = df.apply(lambda row: int(row['Amiodarone (Cordarone)'] == 1), axis=1)\n",
    "\n",
    "def age_bucketize(row):\n",
    "    if str(row['Age']) == 'nan':\n",
    "        return 0\n",
    "    else:\n",
    "        return int(row['Age'][0])\n",
    "\n",
    "df['Age_Bucket'] = df.apply(age_bucketize, axis=1)\n",
    "\n",
    "df['Height'] = df.apply(lambda row: row['Height (cm)'] if str(row['Height (cm)']) != 'nan' else 0, axis=1)\n",
    "df['Weight'] = df.apply(lambda row: row['Weight (kg)'] if str(row['Weight (kg)']) != 'nan' else 0, axis=1)"
   ]
  },
  {
   "cell_type": "code",
   "execution_count": 120,
   "metadata": {},
   "outputs": [],
   "source": [
    "clean_df = df[['Asian','Black','Mixed','Enzyme','Ami','Age_Bucket','Height','Weight','Label']]"
   ]
  },
  {
   "cell_type": "code",
   "execution_count": 121,
   "metadata": {},
   "outputs": [
    {
     "name": "stdout",
     "output_type": "stream",
     "text": [
      "   Asian  Black  Mixed  Enzyme  Ami  Age_Bucket  Height  Weight  Label\n",
      "0      0      0      0       0    0           6  193.04   115.7      1\n",
      "1      0      0      0       0    0           5  176.53   144.2      1\n",
      "2      0      0      0       0    0           4  162.56    77.1      2\n",
      "3      0      0      0       0    0           6  182.24    90.7      1\n",
      "4      0      0      0       0    0           5  167.64    72.6      1\n"
     ]
    }
   ],
   "source": [
    "print(clean_df.head())"
   ]
  },
  {
   "cell_type": "code",
   "execution_count": 123,
   "metadata": {},
   "outputs": [],
   "source": [
    "clean_df.to_csv('clean.csv')"
   ]
  },
  {
   "cell_type": "code",
   "execution_count": null,
   "metadata": {},
   "outputs": [],
   "source": []
  }
 ],
 "metadata": {
  "kernelspec": {
   "display_name": "Python 3",
   "language": "python",
   "name": "python3"
  },
  "language_info": {
   "codemirror_mode": {
    "name": "ipython",
    "version": 3
   },
   "file_extension": ".py",
   "mimetype": "text/x-python",
   "name": "python",
   "nbconvert_exporter": "python",
   "pygments_lexer": "ipython3",
   "version": "3.6.4"
  }
 },
 "nbformat": 4,
 "nbformat_minor": 2
}
